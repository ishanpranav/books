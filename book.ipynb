{
 "cells": [
  {
   "cell_type": "markdown",
   "metadata": {},
   "source": [
    "# Books\n",
    "\n",
    "## Attribution\n",
    "\n",
    "The data for this project come from\n",
    "[Project Gutenberg](https://www.gutenberg.org/):\n",
    "[_The Importance of Being Earnest: A Trivial Comedy for Serious People_ by Oscar Wilde](https://www.gutenberg.org/cache/epub/844/pg844.txt)\n",
    "and\n",
    "[_Macbeth_ by William Shakespeare](https://www.gutenberg.org/cache/epub/2264/pg2264.txt).\n",
    "Both are available in the public domain.\n",
    "\n",
    "## Investigation\n",
    "\n",
    "__Who has the most to say in _The Importance of Being Earnest_?__\n",
    "\n",
    "My all-time favorite play is Oscar Wilde's _The Importance of Being Earnest: A\n",
    "Trivial Comedy for Serious People_. In this investigation, we would like to\n",
    "determine which character has the most dialogue, measured by word count.\n",
    "\n",
    "Later, I will apply the same method to another one of my favorite plays, the\n",
    "tragedy of _Macbeth_ by William Shakespeare.\n",
    "\n",
    "### Parsing"
   ]
  },
  {
   "cell_type": "code",
   "execution_count": null,
   "metadata": {
    "vscode": {
     "languageId": "plaintext"
    }
   },
   "outputs": [],
   "source": []
  }
 ],
 "metadata": {
  "kernelspec": {
   "display_name": "Python 3",
   "language": "python",
   "name": "python3"
  },
  "language_info": {
   "codemirror_mode": {
    "name": "ipython",
    "version": 3
   },
   "file_extension": ".py",
   "mimetype": "text/x-python",
   "name": "python",
   "nbconvert_exporter": "python",
   "pygments_lexer": "ipython3",
   "version": "3.8.5"
  }
 },
 "nbformat": 4,
 "nbformat_minor": 4
}
